{
  "nbformat": 4,
  "nbformat_minor": 0,
  "metadata": {
    "colab": {
      "name": "FinBERT - Crypto Sentiment Analysis.ipynb",
      "provenance": [],
      "collapsed_sections": [],
      "authorship_tag": "ABX9TyNpa3D2ixCt1P0oowwtOq0B",
      "include_colab_link": true
    },
    "kernelspec": {
      "name": "python3",
      "display_name": "Python 3"
    },
    "language_info": {
      "name": "python"
    }
  },
  "cells": [
    {
      "cell_type": "markdown",
      "metadata": {
        "id": "view-in-github",
        "colab_type": "text"
      },
      "source": [
        "<a href=\"https://colab.research.google.com/github/APYazdi/Crypto-Sentiment-Analysis/blob/main/FinBERT_Crypto_Sentiment_Analysis.ipynb\" target=\"_parent\"><img src=\"https://colab.research.google.com/assets/colab-badge.svg\" alt=\"Open In Colab\"/></a>"
      ]
    },
    {
      "cell_type": "markdown",
      "source": [
        "**Getting Dependecies**\n"
      ],
      "metadata": {
        "id": "3nh2v5B-8oK6"
      }
    },
    {
      "cell_type": "code",
      "source": [
        "!pip install transformers"
      ],
      "metadata": {
        "id": "P2Uwn2r0QT0w"
      },
      "execution_count": null,
      "outputs": []
    },
    {
      "cell_type": "code",
      "source": [
        "!pip install pygooglenews --upgrade"
      ],
      "metadata": {
        "id": "Lk_jbtYzovqP"
      },
      "execution_count": null,
      "outputs": []
    },
    {
      "cell_type": "code",
      "source": [
        "!pip install wandb"
      ],
      "metadata": {
        "id": "2yJptiSeVamh"
      },
      "execution_count": null,
      "outputs": []
    },
    {
      "cell_type": "code",
      "source": [
        "import torch\n",
        "import pandas as pd\n",
        "import wandb \n"
      ],
      "metadata": {
        "id": "aq_S8oEQAn__"
      },
      "execution_count": 5,
      "outputs": []
    },
    {
      "cell_type": "code",
      "source": [
        "from pygooglenews import GoogleNews\n",
        "gn = GoogleNews()"
      ],
      "metadata": {
        "id": "Xje3fAQDbg9q"
      },
      "execution_count": 6,
      "outputs": []
    },
    {
      "cell_type": "code",
      "execution_count": null,
      "metadata": {
        "id": "g1oVpWYvaw9g"
      },
      "outputs": [],
      "source": [
        "from transformers import AutoTokenizer, AutoModelForSequenceClassification \n",
        "tokenizer = AutoTokenizer.from_pretrained(\"ProsusAI/finbert\")\n",
        "model = AutoModelForSequenceClassification.from_pretrained(\"ProsusAI/finbert\")"
      ]
    },
    {
      "cell_type": "code",
      "source": [
        "# search for the best matching articles that mention LUNA and \n",
        "# do not mention BTC (over the past 6 month)\n",
        "#search = gn.search('LUNA -BTC', when = '6m')\n"
      ],
      "metadata": {
        "id": "n9nnCTzObhBo"
      },
      "execution_count": 7,
      "outputs": []
    },
    {
      "cell_type": "code",
      "source": [
        "#List of cryptos to capture headlines for \n",
        "#fetch headlines from list of cryptos\n",
        "\n",
        "headline_list = []\n",
        "crypto_list = []\n",
        "\n",
        "cryptos = ['bitcoin', 'ethereum','fantom','luna','avalanche','solana']\n",
        "for crypto in cryptos:\n",
        "  response = gn.search(crypto)\n",
        "  for r in response['entries']:\n",
        "    headline_list.append(r['title'])\n",
        "    crypto_list.append(crypto)\n",
        "\n",
        "    "
      ],
      "metadata": {
        "id": "OSzfaTQj8TvY"
      },
      "execution_count": 8,
      "outputs": []
    },
    {
      "cell_type": "code",
      "source": [
        "#Setting up project in wandb to push results into a wandb Table for easy visualization & analysis\n",
        "#MUST HAVE SIGNED IN \"https://wandb.ai/home\" for API access code\n",
        "\n",
        "\n",
        "wandb.init(project='Crypto Sentiment Analysis')\n",
        "headline_table = wandb.Table(columns=[\"Headline\",\"Crypto\", \"Postive\", \"Negative\",\"Neutral\"])"
      ],
      "metadata": {
        "colab": {
          "base_uri": "https://localhost:8080/",
          "height": 103
        },
        "id": "uhhmWrVBDpVP",
        "outputId": "24e240f1-9d2e-4aff-f9af-4d2ff9e7f83c"
      },
      "execution_count": 9,
      "outputs": [
        {
          "output_type": "display_data",
          "data": {
            "text/plain": [
              "<IPython.core.display.Javascript object>"
            ],
            "application/javascript": [
              "\n",
              "        window._wandbApiKey = new Promise((resolve, reject) => {\n",
              "            function loadScript(url) {\n",
              "            return new Promise(function(resolve, reject) {\n",
              "                let newScript = document.createElement(\"script\");\n",
              "                newScript.onerror = reject;\n",
              "                newScript.onload = resolve;\n",
              "                document.body.appendChild(newScript);\n",
              "                newScript.src = url;\n",
              "            });\n",
              "            }\n",
              "            loadScript(\"https://cdn.jsdelivr.net/npm/postmate/build/postmate.min.js\").then(() => {\n",
              "            const iframe = document.createElement('iframe')\n",
              "            iframe.style.cssText = \"width:0;height:0;border:none\"\n",
              "            document.body.appendChild(iframe)\n",
              "            const handshake = new Postmate({\n",
              "                container: iframe,\n",
              "                url: 'https://wandb.ai/authorize'\n",
              "            });\n",
              "            const timeout = setTimeout(() => reject(\"Couldn't auto authenticate\"), 5000)\n",
              "            handshake.then(function(child) {\n",
              "                child.on('authorize', data => {\n",
              "                    clearTimeout(timeout)\n",
              "                    resolve(data)\n",
              "                });\n",
              "            });\n",
              "            })\n",
              "        });\n",
              "    "
            ]
          },
          "metadata": {}
        },
        {
          "output_type": "stream",
          "name": "stderr",
          "text": [
            "\u001b[34m\u001b[1mwandb\u001b[0m: Appending key for api.wandb.ai to your netrc file: /root/.netrc\n"
          ]
        },
        {
          "output_type": "display_data",
          "data": {
            "text/plain": [
              "<IPython.core.display.HTML object>"
            ],
            "text/html": [
              "Tracking run with wandb version 0.12.15"
            ]
          },
          "metadata": {}
        },
        {
          "output_type": "display_data",
          "data": {
            "text/plain": [
              "<IPython.core.display.HTML object>"
            ],
            "text/html": [
              "Run data is saved locally in <code>/content/wandb/run-20220430_191703-3q00eetk</code>"
            ]
          },
          "metadata": {}
        },
        {
          "output_type": "display_data",
          "data": {
            "text/plain": [
              "<IPython.core.display.HTML object>"
            ],
            "text/html": [
              "Syncing run <strong><a href=\"https://wandb.ai/a-yazdi/Crypto%20Sentiment%20Analysis/runs/3q00eetk\" target=\"_blank\">ethereal-pine-4</a></strong> to <a href=\"https://wandb.ai/a-yazdi/Crypto%20Sentiment%20Analysis\" target=\"_blank\">Weights & Biases</a> (<a href=\"https://wandb.me/run\" target=\"_blank\">docs</a>)<br/>"
            ]
          },
          "metadata": {}
        }
      ]
    },
    {
      "cell_type": "code",
      "source": [
        "#Peek at headlines captured \n",
        "\n",
        "for h in headline_list:\n",
        "  print(h)"
      ],
      "metadata": {
        "id": "T_BNIbN7_Jlv"
      },
      "execution_count": null,
      "outputs": []
    },
    {
      "cell_type": "code",
      "source": [
        "#Loop through crypto list capturing sentiment prediction into a 3 column matrix for Positive, Negative, Neutral  \n",
        "def chunkList(list,n):\n",
        "  for i in range(0, len(list),n):\n",
        "    yield list[i:i+n]\n",
        "\n",
        "n = 0\n",
        "chunkSize = 100\n",
        "model.eval()\n",
        "for lines, cryptos in zip(chunkList(headline_list,chunkSize), chunkList(crypto_list,chunkSize)):\n",
        "  input = tokenizer(lines,padding=True, truncation=True, return_tensors='pt')\n",
        "  outputs = model(**input)\n",
        "  prediction = torch.nn.functional.softmax(outputs.logits, dim=-1)\n",
        "  print(f\"{n+1}/{int(len(headline_list)/chunkSize)}\")\n",
        "  for headline,crypto,pos,neg,neutr in zip(lines, cryptos, prediction[:,0].tolist(),prediction[:,1].tolist(),prediction[:,2].tolist()):\n",
        "    headline_table.add_data(headline,crypto,pos,neg,neutr)\n",
        "  n = n + 1"
      ],
      "metadata": {
        "id": "AcBx-k5JorWa"
      },
      "execution_count": null,
      "outputs": []
    },
    {
      "cell_type": "code",
      "source": [
        "#Push model predictions into a wandb table\n",
        "\n",
        "wandb.run.log({\"Crypto Sentiment Analysis Table\": headline_table})\n",
        "wandb.run.finish()"
      ],
      "metadata": {
        "id": "ThQ87EYmFnnG"
      },
      "execution_count": null,
      "outputs": []
    }
  ]
}